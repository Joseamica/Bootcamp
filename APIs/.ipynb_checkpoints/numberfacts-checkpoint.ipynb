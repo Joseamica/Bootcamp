{
 "cells": [
  {
   "cell_type": "code",
   "execution_count": 24,
   "metadata": {},
   "outputs": [],
   "source": [
    "# Dependencies\n",
    "import requests\n",
    "import json"
   ]
  },
  {
   "cell_type": "code",
   "execution_count": 36,
   "metadata": {},
   "outputs": [],
   "source": [
    "# Base URL for GET requests to retrieve number/date facts\n",
    "url = \"http://numbersapi.com/\""
   ]
  },
  {
   "cell_type": "code",
   "execution_count": 41,
   "metadata": {},
   "outputs": [
    {
     "name": "stdout",
     "output_type": "stream",
     "text": [
      "What kind of data you want to search for? math, trivia, date date\n",
      "Introduce a number: 10\n",
      "Another one 12\n",
      "http://numbersapi.com/10/date?json\n"
     ]
    }
   ],
   "source": [
    "# Ask the user what kind of data they would like to search for\n",
    "user_input = input('What kind of data you want to search for? math, trivia, date ')\n",
    "if user_input == 'math':\n",
    "    user_input_number = input('Introduce a number: ')\n",
    "elif user_input == 'trivia':\n",
    "    user_input = \"\"\n",
    "    user_input_number = input('Introduce a number: ')\n",
    "elif user_input == 'date':\n",
    "    user_input_number = input('Introduce a number: ')\n",
    "    user_input_number1 = input('Another one ')\n",
    "    user_input_number2 = 'date'\n",
    "    response = url + user_input_number + user_input_number1 + user_input_number2 + 'json'\n",
    "\n",
    "response = url + user_input_number + \"/\" + user_input + \"?json\"\n",
    "print(response)"
   ]
  },
  {
   "cell_type": "code",
   "execution_count": 42,
   "metadata": {},
   "outputs": [
    {
     "name": "stdout",
     "output_type": "stream",
     "text": [
      "January 10th is the day in 1984 that the United States and Vatican City establish full diplomatic relations after 117 years.\n"
     ]
    }
   ],
   "source": [
    "# Create code to return a number fact\n",
    "data = requests.get(response).json()\n",
    "print(data['text'])"
   ]
  },
  {
   "cell_type": "code",
   "execution_count": null,
   "metadata": {},
   "outputs": [],
   "source": []
  }
 ],
 "metadata": {
  "kernelspec": {
   "display_name": "Python 3",
   "language": "python",
   "name": "python3"
  },
  "language_info": {
   "codemirror_mode": {
    "name": "ipython",
    "version": 3
   },
   "file_extension": ".py",
   "mimetype": "text/x-python",
   "name": "python",
   "nbconvert_exporter": "python",
   "pygments_lexer": "ipython3",
   "version": "3.7.3"
  },
  "varInspector": {
   "cols": {
    "lenName": 16,
    "lenType": 16,
    "lenVar": 40
   },
   "kernels_config": {
    "python": {
     "delete_cmd_postfix": "",
     "delete_cmd_prefix": "del ",
     "library": "var_list.py",
     "varRefreshCmd": "print(var_dic_list())"
    },
    "r": {
     "delete_cmd_postfix": ") ",
     "delete_cmd_prefix": "rm(",
     "library": "var_list.r",
     "varRefreshCmd": "cat(var_dic_list()) "
    }
   },
   "types_to_exclude": [
    "module",
    "function",
    "builtin_function_or_method",
    "instance",
    "_Feature"
   ],
   "window_display": false
  }
 },
 "nbformat": 4,
 "nbformat_minor": 2
}
