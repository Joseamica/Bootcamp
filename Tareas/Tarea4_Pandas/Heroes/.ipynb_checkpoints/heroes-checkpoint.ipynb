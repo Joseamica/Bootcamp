{
 "cells": [
  {
   "cell_type": "markdown",
   "metadata": {},
   "source": [
    "### Heroes Of Pymoli Data Analysis\n",
    "* Of the 1163 active players, the vast majority are male (84%). There also exists, a smaller, but notable proportion of female players (14%).\n",
    "\n",
    "* Our peak age demographic falls between 20-24 (44.8%) with secondary groups falling between 15-19 (18.60%) and 25-29 (13.4%).  \n",
    "-----"
   ]
  },
  {
   "cell_type": "markdown",
   "metadata": {},
   "source": [
    "### Note\n",
    "* Instructions have been included for each segment. You do not have to follow them exactly, but they are included to help you think through the steps."
   ]
  },
  {
   "cell_type": "code",
   "execution_count": 1,
   "metadata": {
    "scrolled": true
   },
   "outputs": [
    {
     "data": {
      "text/html": [
       "<div>\n",
       "<style scoped>\n",
       "    .dataframe tbody tr th:only-of-type {\n",
       "        vertical-align: middle;\n",
       "    }\n",
       "\n",
       "    .dataframe tbody tr th {\n",
       "        vertical-align: top;\n",
       "    }\n",
       "\n",
       "    .dataframe thead th {\n",
       "        text-align: right;\n",
       "    }\n",
       "</style>\n",
       "<table border=\"1\" class=\"dataframe\">\n",
       "  <thead>\n",
       "    <tr style=\"text-align: right;\">\n",
       "      <th></th>\n",
       "      <th>Purchase ID</th>\n",
       "      <th>SN</th>\n",
       "      <th>Age</th>\n",
       "      <th>Gender</th>\n",
       "      <th>Item ID</th>\n",
       "      <th>Item Name</th>\n",
       "      <th>Price</th>\n",
       "    </tr>\n",
       "  </thead>\n",
       "  <tbody>\n",
       "    <tr>\n",
       "      <th>0</th>\n",
       "      <td>0</td>\n",
       "      <td>Lisim78</td>\n",
       "      <td>20</td>\n",
       "      <td>Male</td>\n",
       "      <td>108</td>\n",
       "      <td>Extraction, Quickblade Of Trembling Hands</td>\n",
       "      <td>3.53</td>\n",
       "    </tr>\n",
       "    <tr>\n",
       "      <th>1</th>\n",
       "      <td>1</td>\n",
       "      <td>Lisovynya38</td>\n",
       "      <td>40</td>\n",
       "      <td>Male</td>\n",
       "      <td>143</td>\n",
       "      <td>Frenzied Scimitar</td>\n",
       "      <td>1.56</td>\n",
       "    </tr>\n",
       "    <tr>\n",
       "      <th>2</th>\n",
       "      <td>2</td>\n",
       "      <td>Ithergue48</td>\n",
       "      <td>24</td>\n",
       "      <td>Male</td>\n",
       "      <td>92</td>\n",
       "      <td>Final Critic</td>\n",
       "      <td>4.88</td>\n",
       "    </tr>\n",
       "    <tr>\n",
       "      <th>3</th>\n",
       "      <td>3</td>\n",
       "      <td>Chamassasya86</td>\n",
       "      <td>24</td>\n",
       "      <td>Male</td>\n",
       "      <td>100</td>\n",
       "      <td>Blindscythe</td>\n",
       "      <td>3.27</td>\n",
       "    </tr>\n",
       "    <tr>\n",
       "      <th>4</th>\n",
       "      <td>4</td>\n",
       "      <td>Iskosia90</td>\n",
       "      <td>23</td>\n",
       "      <td>Male</td>\n",
       "      <td>131</td>\n",
       "      <td>Fury</td>\n",
       "      <td>1.44</td>\n",
       "    </tr>\n",
       "  </tbody>\n",
       "</table>\n",
       "</div>"
      ],
      "text/plain": [
       "   Purchase ID             SN  Age Gender  Item ID  \\\n",
       "0            0        Lisim78   20   Male      108   \n",
       "1            1    Lisovynya38   40   Male      143   \n",
       "2            2     Ithergue48   24   Male       92   \n",
       "3            3  Chamassasya86   24   Male      100   \n",
       "4            4      Iskosia90   23   Male      131   \n",
       "\n",
       "                                   Item Name  Price  \n",
       "0  Extraction, Quickblade Of Trembling Hands   3.53  \n",
       "1                          Frenzied Scimitar   1.56  \n",
       "2                               Final Critic   4.88  \n",
       "3                                Blindscythe   3.27  \n",
       "4                                       Fury   1.44  "
      ]
     },
     "execution_count": 1,
     "metadata": {},
     "output_type": "execute_result"
    }
   ],
   "source": [
    "# Dependencies and Setup\n",
    "import pandas as pd\n",
    "import numpy as np\n",
    "from IPython.core.interactiveshell import InteractiveShell\n",
    "InteractiveShell.ast_node_interactivity = \"all\"\n",
    "\n",
    "# File to Load (Remember to Change These)\n",
    "file_to_load = \"purchase_data.csv\"\n",
    "\n",
    "# Read Purchasing File and store into Pandas data frame\n",
    "df = pd.read_csv(file_to_load)\n",
    "df1 = pd.read_csv(file_to_load)\n",
    "df.head(5)"
   ]
  },
  {
   "cell_type": "markdown",
   "metadata": {},
   "source": [
    "## Player Count"
   ]
  },
  {
   "cell_type": "markdown",
   "metadata": {},
   "source": [
    "* Display the total number of players\n"
   ]
  },
  {
   "cell_type": "code",
   "execution_count": 2,
   "metadata": {},
   "outputs": [
    {
     "data": {
      "text/html": [
       "<div>\n",
       "<style scoped>\n",
       "    .dataframe tbody tr th:only-of-type {\n",
       "        vertical-align: middle;\n",
       "    }\n",
       "\n",
       "    .dataframe tbody tr th {\n",
       "        vertical-align: top;\n",
       "    }\n",
       "\n",
       "    .dataframe thead th {\n",
       "        text-align: right;\n",
       "    }\n",
       "</style>\n",
       "<table border=\"1\" class=\"dataframe\">\n",
       "  <thead>\n",
       "    <tr style=\"text-align: right;\">\n",
       "      <th></th>\n",
       "      <th>Total Players</th>\n",
       "    </tr>\n",
       "  </thead>\n",
       "  <tbody>\n",
       "    <tr>\n",
       "      <th>0</th>\n",
       "      <td>576</td>\n",
       "    </tr>\n",
       "  </tbody>\n",
       "</table>\n",
       "</div>"
      ],
      "text/plain": [
       "   Total Players\n",
       "0            576"
      ]
     },
     "execution_count": 2,
     "metadata": {},
     "output_type": "execute_result"
    }
   ],
   "source": [
    "players_list = df1.iloc[:,1]\n",
    "  \n",
    "# sorting by first name \n",
    "\n",
    "# dropping ALL duplicte values \n",
    "df.drop_duplicates(subset =\"SN\", \n",
    "                     keep = \"first\", inplace = True) \n",
    "  \n",
    "no_duplicates_players = df['SN'].count()\n",
    "\n",
    "player_count = {\"Total Players\":no_duplicates_players}\n",
    "pd.DataFrame(player_count, index=[0])"
   ]
  },
  {
   "cell_type": "markdown",
   "metadata": {},
   "source": [
    "## Purchasing Analysis (Total)"
   ]
  },
  {
   "cell_type": "markdown",
   "metadata": {},
   "source": [
    "* Run basic calculations to obtain number of unique items, average price, etc.\n",
    "\n",
    "\n",
    "* Create a summary data frame to hold the results\n",
    "\n",
    "\n",
    "* Optional: give the displayed data cleaner formatting\n",
    "\n",
    "\n",
    "* Display the summary data frame\n"
   ]
  },
  {
   "cell_type": "code",
   "execution_count": 4,
   "metadata": {
    "scrolled": true
   },
   "outputs": [
    {
     "data": {
      "text/html": [
       "<div>\n",
       "<style scoped>\n",
       "    .dataframe tbody tr th:only-of-type {\n",
       "        vertical-align: middle;\n",
       "    }\n",
       "\n",
       "    .dataframe tbody tr th {\n",
       "        vertical-align: top;\n",
       "    }\n",
       "\n",
       "    .dataframe thead th {\n",
       "        text-align: right;\n",
       "    }\n",
       "</style>\n",
       "<table border=\"1\" class=\"dataframe\">\n",
       "  <thead>\n",
       "    <tr style=\"text-align: right;\">\n",
       "      <th></th>\n",
       "      <th>Number of Unique Items</th>\n",
       "      <th>Average Price</th>\n",
       "      <th>Number of Purchases</th>\n",
       "      <th>Total Revenue</th>\n",
       "    </tr>\n",
       "  </thead>\n",
       "  <tbody>\n",
       "    <tr>\n",
       "      <th>0</th>\n",
       "      <td>173</td>\n",
       "      <td>3.07</td>\n",
       "      <td>780</td>\n",
       "      <td>$2379.77</td>\n",
       "    </tr>\n",
       "  </tbody>\n",
       "</table>\n",
       "</div>"
      ],
      "text/plain": [
       "   Number of Unique Items  Average Price  Number of Purchases Total Revenue\n",
       "0                     173           3.07                  780      $2379.77"
      ]
     },
     "execution_count": 4,
     "metadata": {},
     "output_type": "execute_result"
    }
   ],
   "source": [
    "u_items = df['Item Name'].unique()\n",
    "u_avg = round(df['Price'].mean(),2)\n",
    "n_purchases = df1['Item Name'].count()\n",
    "total_revenue = df1['Price'].sum()\n",
    "\n",
    "\n",
    "count=0\n",
    "for i in u_items:\n",
    "    count += 1\n",
    "\n",
    "\n",
    "\n",
    "\n",
    "summary_df = {'Number of Unique Items': count, 'Average Price': u_avg, 'Number of Purchases': n_purchases, \"Total Revenue\":\"$\"+str(total_revenue)}\n",
    "purchasing_analysis = pd.DataFrame(summary_df, index=[0])\n",
    "purchasing_analysis"
   ]
  },
  {
   "cell_type": "markdown",
   "metadata": {},
   "source": [
    "## Gender Demographics"
   ]
  },
  {
   "cell_type": "markdown",
   "metadata": {},
   "source": [
    "* Percentage and Count of Male Players\n",
    "\n",
    "\n",
    "* Percentage and Count of Female Players\n",
    "\n",
    "\n",
    "* Percentage and Count of Other / Non-Disclosed\n",
    "\n",
    "\n"
   ]
  },
  {
   "cell_type": "code",
   "execution_count": 41,
   "metadata": {},
   "outputs": [
    {
     "ename": "KeyError",
     "evalue": "\"['Purchase ID' 'Age' 'SN' 'Item ID'] not found in axis\"",
     "output_type": "error",
     "traceback": [
      "\u001b[0;31m---------------------------------------------------------------------------\u001b[0m",
      "\u001b[0;31mKeyError\u001b[0m                                  Traceback (most recent call last)",
      "\u001b[0;32m<ipython-input-41-fa4c7e12ddd9>\u001b[0m in \u001b[0;36m<module>\u001b[0;34m\u001b[0m\n\u001b[1;32m      3\u001b[0m \u001b[0;31m#grouped gender sorted by gender, droped extra tables, added column names\u001b[0m\u001b[0;34m\u001b[0m\u001b[0;34m\u001b[0m\u001b[0;34m\u001b[0m\u001b[0m\n\u001b[1;32m      4\u001b[0m \u001b[0;34m\u001b[0m\u001b[0m\n\u001b[0;32m----> 5\u001b[0;31m \u001b[0mg_demo\u001b[0m \u001b[0;34m=\u001b[0m \u001b[0mg_demo\u001b[0m\u001b[0;34m.\u001b[0m\u001b[0mdrop\u001b[0m\u001b[0;34m(\u001b[0m\u001b[0;34m[\u001b[0m\u001b[0;34m'Purchase ID'\u001b[0m\u001b[0;34m,\u001b[0m\u001b[0;34m\"Age\"\u001b[0m\u001b[0;34m,\u001b[0m\u001b[0;34m'SN'\u001b[0m\u001b[0;34m,\u001b[0m\u001b[0;34m'Item ID'\u001b[0m\u001b[0;34m]\u001b[0m\u001b[0;34m,\u001b[0m \u001b[0maxis\u001b[0m\u001b[0;34m=\u001b[0m\u001b[0;36m1\u001b[0m\u001b[0;34m)\u001b[0m\u001b[0;34m\u001b[0m\u001b[0;34m\u001b[0m\u001b[0m\n\u001b[0m\u001b[1;32m      6\u001b[0m \u001b[0;34m\u001b[0m\u001b[0m\n\u001b[1;32m      7\u001b[0m \u001b[0mg_demo\u001b[0m\u001b[0;34m.\u001b[0m\u001b[0mcolumns\u001b[0m \u001b[0;34m=\u001b[0m \u001b[0;34m[\u001b[0m\u001b[0;34m'Total Count'\u001b[0m\u001b[0;34m,\u001b[0m \u001b[0;34m'Percentage Players'\u001b[0m\u001b[0;34m]\u001b[0m\u001b[0;34m\u001b[0m\u001b[0;34m\u001b[0m\u001b[0m\n",
      "\u001b[0;32m/anaconda3/lib/python3.7/site-packages/pandas/core/frame.py\u001b[0m in \u001b[0;36mdrop\u001b[0;34m(self, labels, axis, index, columns, level, inplace, errors)\u001b[0m\n\u001b[1;32m   3938\u001b[0m                                            \u001b[0mindex\u001b[0m\u001b[0;34m=\u001b[0m\u001b[0mindex\u001b[0m\u001b[0;34m,\u001b[0m \u001b[0mcolumns\u001b[0m\u001b[0;34m=\u001b[0m\u001b[0mcolumns\u001b[0m\u001b[0;34m,\u001b[0m\u001b[0;34m\u001b[0m\u001b[0;34m\u001b[0m\u001b[0m\n\u001b[1;32m   3939\u001b[0m                                            \u001b[0mlevel\u001b[0m\u001b[0;34m=\u001b[0m\u001b[0mlevel\u001b[0m\u001b[0;34m,\u001b[0m \u001b[0minplace\u001b[0m\u001b[0;34m=\u001b[0m\u001b[0minplace\u001b[0m\u001b[0;34m,\u001b[0m\u001b[0;34m\u001b[0m\u001b[0;34m\u001b[0m\u001b[0m\n\u001b[0;32m-> 3940\u001b[0;31m                                            errors=errors)\n\u001b[0m\u001b[1;32m   3941\u001b[0m \u001b[0;34m\u001b[0m\u001b[0m\n\u001b[1;32m   3942\u001b[0m     @rewrite_axis_style_signature('mapper', [('copy', True),\n",
      "\u001b[0;32m/anaconda3/lib/python3.7/site-packages/pandas/core/generic.py\u001b[0m in \u001b[0;36mdrop\u001b[0;34m(self, labels, axis, index, columns, level, inplace, errors)\u001b[0m\n\u001b[1;32m   3778\u001b[0m         \u001b[0;32mfor\u001b[0m \u001b[0maxis\u001b[0m\u001b[0;34m,\u001b[0m \u001b[0mlabels\u001b[0m \u001b[0;32min\u001b[0m \u001b[0maxes\u001b[0m\u001b[0;34m.\u001b[0m\u001b[0mitems\u001b[0m\u001b[0;34m(\u001b[0m\u001b[0;34m)\u001b[0m\u001b[0;34m:\u001b[0m\u001b[0;34m\u001b[0m\u001b[0;34m\u001b[0m\u001b[0m\n\u001b[1;32m   3779\u001b[0m             \u001b[0;32mif\u001b[0m \u001b[0mlabels\u001b[0m \u001b[0;32mis\u001b[0m \u001b[0;32mnot\u001b[0m \u001b[0;32mNone\u001b[0m\u001b[0;34m:\u001b[0m\u001b[0;34m\u001b[0m\u001b[0;34m\u001b[0m\u001b[0m\n\u001b[0;32m-> 3780\u001b[0;31m                 \u001b[0mobj\u001b[0m \u001b[0;34m=\u001b[0m \u001b[0mobj\u001b[0m\u001b[0;34m.\u001b[0m\u001b[0m_drop_axis\u001b[0m\u001b[0;34m(\u001b[0m\u001b[0mlabels\u001b[0m\u001b[0;34m,\u001b[0m \u001b[0maxis\u001b[0m\u001b[0;34m,\u001b[0m \u001b[0mlevel\u001b[0m\u001b[0;34m=\u001b[0m\u001b[0mlevel\u001b[0m\u001b[0;34m,\u001b[0m \u001b[0merrors\u001b[0m\u001b[0;34m=\u001b[0m\u001b[0merrors\u001b[0m\u001b[0;34m)\u001b[0m\u001b[0;34m\u001b[0m\u001b[0;34m\u001b[0m\u001b[0m\n\u001b[0m\u001b[1;32m   3781\u001b[0m \u001b[0;34m\u001b[0m\u001b[0m\n\u001b[1;32m   3782\u001b[0m         \u001b[0;32mif\u001b[0m \u001b[0minplace\u001b[0m\u001b[0;34m:\u001b[0m\u001b[0;34m\u001b[0m\u001b[0;34m\u001b[0m\u001b[0m\n",
      "\u001b[0;32m/anaconda3/lib/python3.7/site-packages/pandas/core/generic.py\u001b[0m in \u001b[0;36m_drop_axis\u001b[0;34m(self, labels, axis, level, errors)\u001b[0m\n\u001b[1;32m   3810\u001b[0m                 \u001b[0mnew_axis\u001b[0m \u001b[0;34m=\u001b[0m \u001b[0maxis\u001b[0m\u001b[0;34m.\u001b[0m\u001b[0mdrop\u001b[0m\u001b[0;34m(\u001b[0m\u001b[0mlabels\u001b[0m\u001b[0;34m,\u001b[0m \u001b[0mlevel\u001b[0m\u001b[0;34m=\u001b[0m\u001b[0mlevel\u001b[0m\u001b[0;34m,\u001b[0m \u001b[0merrors\u001b[0m\u001b[0;34m=\u001b[0m\u001b[0merrors\u001b[0m\u001b[0;34m)\u001b[0m\u001b[0;34m\u001b[0m\u001b[0;34m\u001b[0m\u001b[0m\n\u001b[1;32m   3811\u001b[0m             \u001b[0;32melse\u001b[0m\u001b[0;34m:\u001b[0m\u001b[0;34m\u001b[0m\u001b[0;34m\u001b[0m\u001b[0m\n\u001b[0;32m-> 3812\u001b[0;31m                 \u001b[0mnew_axis\u001b[0m \u001b[0;34m=\u001b[0m \u001b[0maxis\u001b[0m\u001b[0;34m.\u001b[0m\u001b[0mdrop\u001b[0m\u001b[0;34m(\u001b[0m\u001b[0mlabels\u001b[0m\u001b[0;34m,\u001b[0m \u001b[0merrors\u001b[0m\u001b[0;34m=\u001b[0m\u001b[0merrors\u001b[0m\u001b[0;34m)\u001b[0m\u001b[0;34m\u001b[0m\u001b[0;34m\u001b[0m\u001b[0m\n\u001b[0m\u001b[1;32m   3813\u001b[0m             \u001b[0mresult\u001b[0m \u001b[0;34m=\u001b[0m \u001b[0mself\u001b[0m\u001b[0;34m.\u001b[0m\u001b[0mreindex\u001b[0m\u001b[0;34m(\u001b[0m\u001b[0;34m**\u001b[0m\u001b[0;34m{\u001b[0m\u001b[0maxis_name\u001b[0m\u001b[0;34m:\u001b[0m \u001b[0mnew_axis\u001b[0m\u001b[0;34m}\u001b[0m\u001b[0;34m)\u001b[0m\u001b[0;34m\u001b[0m\u001b[0;34m\u001b[0m\u001b[0m\n\u001b[1;32m   3814\u001b[0m \u001b[0;34m\u001b[0m\u001b[0m\n",
      "\u001b[0;32m/anaconda3/lib/python3.7/site-packages/pandas/core/indexes/base.py\u001b[0m in \u001b[0;36mdrop\u001b[0;34m(self, labels, errors)\u001b[0m\n\u001b[1;32m   4963\u001b[0m             \u001b[0;32mif\u001b[0m \u001b[0merrors\u001b[0m \u001b[0;34m!=\u001b[0m \u001b[0;34m'ignore'\u001b[0m\u001b[0;34m:\u001b[0m\u001b[0;34m\u001b[0m\u001b[0;34m\u001b[0m\u001b[0m\n\u001b[1;32m   4964\u001b[0m                 raise KeyError(\n\u001b[0;32m-> 4965\u001b[0;31m                     '{} not found in axis'.format(labels[mask]))\n\u001b[0m\u001b[1;32m   4966\u001b[0m             \u001b[0mindexer\u001b[0m \u001b[0;34m=\u001b[0m \u001b[0mindexer\u001b[0m\u001b[0;34m[\u001b[0m\u001b[0;34m~\u001b[0m\u001b[0mmask\u001b[0m\u001b[0;34m]\u001b[0m\u001b[0;34m\u001b[0m\u001b[0;34m\u001b[0m\u001b[0m\n\u001b[1;32m   4967\u001b[0m         \u001b[0;32mreturn\u001b[0m \u001b[0mself\u001b[0m\u001b[0;34m.\u001b[0m\u001b[0mdelete\u001b[0m\u001b[0;34m(\u001b[0m\u001b[0mindexer\u001b[0m\u001b[0;34m)\u001b[0m\u001b[0;34m\u001b[0m\u001b[0;34m\u001b[0m\u001b[0m\n",
      "\u001b[0;31mKeyError\u001b[0m: \"['Purchase ID' 'Age' 'SN' 'Item ID'] not found in axis\""
     ]
    }
   ],
   "source": [
    "p_m = df.groupby('Gender')\n",
    "\n",
    "#grouped gender sorted by gender, droped extra tables, added column names\n",
    "\n",
    "g_demo = g_demo.drop(['Purchase ID',\"Age\",'SN','Item ID'], axis=1)\n",
    "\n",
    "g_demo.columns = ['Total Count', 'Percentage Players']\n",
    "g_demo = p_m.count().sort_values(by='Total Count', ascending=True)\n",
    "\n",
    "\n",
    "count_male = (df['Gender'].values == 'Male').sum()\n",
    "count_female = (df['Gender'].values == 'Female').sum()\n",
    "count_other = (df['Gender'].values == \"Other / Non-Disclosed\").sum()\n",
    "total = df['Gender'].count()\n",
    "\n",
    "count_f = (df['Gender'].values == 'Female').sum()\n",
    "count_m = (df['Gender'].values == 'Male').sum()\n",
    "count_o = (df['Gender'].values == \"Other / Non-Disclosed\").sum()\n",
    "\n",
    "\n",
    "percentage_female = round((count_f / total) * 100,2)\n",
    "percentage_male = round((count_m / total) * 100,2)\n",
    "percentage_other = round((count_o / total)* 100,2)\n",
    "\n",
    "\n",
    "gender_demographics = pd.DataFrame({\"Total Count\":[count_male,count_female,count_other],\n",
    "                          \"Percentage Players\": [percentage_male,percentage_female,percentage_other]})\n",
    "gender_demographics"
   ]
  },
  {
   "cell_type": "markdown",
   "metadata": {},
   "source": [
    "\n",
    "## Purchasing Analysis (Gender)"
   ]
  },
  {
   "cell_type": "markdown",
   "metadata": {},
   "source": [
    "* Run basic calculations to obtain purchase count, avg. purchase price, avg. purchase total per person etc. by gender\n",
    "\n",
    "\n",
    "\n",
    "\n",
    "* Create a summary data frame to hold the results\n",
    "\n",
    "\n",
    "* Optional: give the displayed data cleaner formatting\n",
    "\n",
    "\n",
    "* Display the summary data frame"
   ]
  },
  {
   "cell_type": "code",
   "execution_count": null,
   "metadata": {},
   "outputs": [],
   "source": [
    "g_gender = df1.groupby('Gender')\n",
    "\n",
    "\n",
    "\n",
    "male_purchases = (df.Gender == 'Male').sum()\n",
    "female_purchases = (df.Gender == 'Female').sum()\n",
    "other_purchases = (df.Gender == 'Other / Non-Disclosed').sum()\n",
    "\n",
    "filter_male_price = df[(df.Gender == 'Male') &\n",
    "   (df.Price)]\n",
    "filter_female_price = df[(df.Gender == 'Female') &\n",
    "   (df.Price)]\n",
    "filter_other_price = df[(df.Gender == 'Other / Non-Disclosed') &\n",
    "   (df.Price)]\n",
    "\n",
    "avg_female_price = round(filter_female_price.Price.mean(),3)\n",
    "avg_male_price = round(filter_male_price.Price.mean(),2)\n",
    "avg_other_price = round(filter_other_price.Price.mean(),2)\n",
    "\n",
    "\n",
    "t_female = df1[(df1.Gender == 'Female') &\n",
    "   (df1.Price)]\n",
    "t_male = df1[(df1.Gender == 'Male') &\n",
    "   (df1.Price)]\n",
    "t_other = df1[(df1.Gender == 'Other / Non-Disclosed') &\n",
    "   (df1.Price)]\n",
    "tfp = t_female.Price.sum()\n",
    "tmp = t_male.Price.sum()\n",
    "top = t_other.Price.sum()\n",
    "\n",
    "avg_total_per_female = round(tfp / count_female,2)\n",
    "avg_total_per_male = round(tmp / count_male,2)\n",
    "avg_total_per_other = round(top / count_other,2)\n",
    "\n",
    "\n",
    "\n",
    "purchasing_analysis = pd.DataFrame({'Purchase_count':[\"\",female_purchases, male_purchases, other_purchases],\n",
    "                     'Average Puchase Price':['','$'+str(avg_female_price),'$'+str(avg_male_price),\n",
    "                                              '$'+str(avg_other_price)],\n",
    "                     'Total Purchase Value':['','$'+str(tfp),'$'+str(tmp),'$'+str(top)],\n",
    "                     'Avg Total Purchase per Person':['',avg_total_per_female, avg_total_per_male, \n",
    "                                                      avg_total_per_other]}, \n",
    "                    index=['Gender','Female','Male','Other / Non-Disclosed'])\n",
    "purchasing_analysis\n"
   ]
  },
  {
   "cell_type": "markdown",
   "metadata": {},
   "source": [
    "## Age Demographics"
   ]
  },
  {
   "cell_type": "markdown",
   "metadata": {},
   "source": [
    "* Establish bins for ages\n",
    "\n",
    "\n",
    "* Categorize the existing players using the age bins. Hint: use pd.cut()\n",
    "\n",
    "\n",
    "* Calculate the numbers and percentages by age group\n",
    "\n",
    "\n",
    "* Create a summary data frame to hold the results\n",
    "\n",
    "\n",
    "* Optional: round the percentage column to two decimal points\n",
    "\n",
    "\n",
    "* Display Age Demographics Table\n"
   ]
  },
  {
   "cell_type": "code",
   "execution_count": null,
   "metadata": {},
   "outputs": [],
   "source": [
    "bins = [0, 10, 15, 20, 25, 30, 35, 40,100]\n",
    "\n",
    "\n",
    "ten = (df.Age < 10).sum()\n",
    "forteen = ((df.Age < 15) & (df.Age >= 10)).sum()\n",
    "nineteen = ((df.Age < 20) & (df.Age >= 15)).sum()\n",
    "twentyfor = ((df.Age < 25) & (df.Age >= 20)).sum()\n",
    "twentynine = ((df.Age < 30) & (df.Age >= 25)).sum()\n",
    "thirtyfor = ((df.Age < 35) & (df.Age >= 30)).sum()\n",
    "thirtynine = ((df.Age < 40) & (df.Age >= 35)).sum()\n",
    "forty = (df.Age >= 40).sum()\n",
    "\n",
    "percentage_players = [round((ten/no_duplicates_players)*100,2), round((forteen/no_duplicates_players)*100,2), \n",
    "                      round((nineteen/no_duplicates_players)*100,2), round((twentyfor/no_duplicates_players)*100,2),\n",
    "                     round((twentynine/no_duplicates_players)*100,2), round((thirtyfor/no_duplicates_players)*100,2),\n",
    "                     round((thirtynine/no_duplicates_players)*100,2), round((forty/no_duplicates_players)*100,2)]\n",
    "\n",
    "group_names = ['<10','10-14','15-19','20-24','25-29','30-34','35-39','40+']\n",
    "\n",
    "df1[\"Percentage of Players\"] = pd.cut(df1.Age, bins, labels=group_names)\n",
    "df1.head()\n",
    "age_demographics = pd.DataFrame({'Total Count':[ten,forteen,nineteen,twentyfor,\n",
    "                                                twentynine,thirtyfor,thirtynine,forty],\n",
    "                                'Percentage of Players':percentage_players}, index=group_names)\n",
    "age_demographics"
   ]
  },
  {
   "cell_type": "markdown",
   "metadata": {},
   "source": [
    "## Purchasing Analysis (Age)"
   ]
  },
  {
   "cell_type": "markdown",
   "metadata": {},
   "source": [
    "* Bin the purchase_data data frame by age\n",
    "\n",
    "\n",
    "* Run basic calculations to obtain purchase count, avg. purchase price, avg. purchase total per person etc. in the table below\n",
    "\n",
    "\n",
    "* Create a summary data frame to hold the results\n",
    "\n",
    "\n",
    "* Optional: give the displayed data cleaner formatting\n",
    "\n",
    "\n",
    "* Display the summary data frame"
   ]
  },
  {
   "cell_type": "code",
   "execution_count": null,
   "metadata": {},
   "outputs": [],
   "source": [
    "bins = [10, 15, 20, 25, 30, 35, 40, 100, 1000]\n",
    "group_names = ['10-14','15-19','20-24','25-29','30-34','35-39','40+','<10']\n",
    "\n",
    "\n",
    "purchase_count_two = ((df1.Age < 15) & (df1.Age >= 10)).sum()\n",
    "purchase_count_three = ((df1.Age < 20) & (df1.Age >= 15)).sum()\n",
    "purchase_count_four = ((df1.Age < 25) & (df1.Age >= 20)).sum()\n",
    "purchase_count_five = ((df1.Age < 30) & (df1.Age >= 25)).sum()\n",
    "purchase_count_six = ((df1.Age < 35) & (df1.Age >= 30)).sum()\n",
    "purchase_count_seven = ((df1.Age < 40) & (df1.Age >= 35)).sum()\n",
    "purchase_count_eight = (df1.Age >= 40).sum()\n",
    "purchase_count_one = (df1.Age < 10).sum()\n",
    "\n",
    "\n",
    "total_purchase_value_two = df1[((df1.Age < 15) & (df1.Age >= 10))]['Price'].sum()\n",
    "total_purchase_value_three = df1[((df1.Age < 20) & (df1.Age >= 15))]['Price'].sum()\n",
    "total_purchase_value_four = df1[((df1.Age < 25) & (df1.Age >= 20))]['Price'].sum()\n",
    "total_purchase_value_five = round(df1[((df1.Age < 30) & (df1.Age >= 25))]['Price'].sum(),2)\n",
    "total_purchase_value_six = round(df1[((df1.Age < 35) & (df1.Age >= 30))]['Price'].sum(),2)\n",
    "total_purchase_value_seven = df1[((df1.Age < 40) & (df1.Age >= 35))]['Price'].sum()\n",
    "total_purchase_value_eight = df1[(df1.Age >= 40)]['Price'].sum()\n",
    "total_purchase_value_one = df1[(df1.Age < 10)]['Price'].sum()\n",
    "\n",
    "\n",
    "avg_purchase_price_two = total_purchase_value_two / purchase_count_two\n",
    "avg_purchase_price_three = total_purchase_value_three / purchase_count_three\n",
    "avg_purchase_price_four = total_purchase_value_four / purchase_count_four\n",
    "avg_purchase_price_five = total_purchase_value_five / purchase_count_five\n",
    "avg_purchase_price_six = total_purchase_value_six / purchase_count_six\n",
    "avg_purchase_price_seven = total_purchase_value_seven / purchase_count_seven\n",
    "avg_purchase_price_eight = total_purchase_value_eight / purchase_count_eight\n",
    "avg_purchase_price_one = total_purchase_value_one / purchase_count_one\n",
    "\n",
    "\n",
    "avg_total_purchase_per_person_two = total_purchase_value_two / forteen\n",
    "avg_total_purchase_per_person_three = total_purchase_value_three / nineteen\n",
    "avg_total_purchase_per_person_four = total_purchase_value_four / twentyfor\n",
    "avg_total_purchase_per_person_five = total_purchase_value_five / twentynine\n",
    "avg_total_purchase_per_person_six = total_purchase_value_six / thirtyfor\n",
    "avg_total_purchase_per_person_seven = total_purchase_value_seven / thirtynine\n",
    "avg_total_purchase_per_person_eight = total_purchase_value_eight / forty\n",
    "avg_total_purchase_per_person_one = total_purchase_value_one / ten\n",
    "\n",
    "\n",
    "\n",
    "\n",
    "df1[\"Purchase_count\"] = pd.cut(df1['Age'], bins, labels=group_names)\n",
    "df1.head(2)   \n",
    "purchasing_analysis = pd.DataFrame({'Purchase Count':[purchase_count_two,purchase_count_three,\n",
    "                                                     purchase_count_four,purchase_count_five,purchase_count_six,\n",
    "                                                      purchase_count_seven,purchase_count_eight,purchase_count_one],\n",
    "                                   'Average Purchase Price':['$'+str(round(avg_purchase_price_two,2)),\n",
    "                                                             '$'+str(round(avg_purchase_price_three,2)),\n",
    "                                                            '$'+str(round(avg_purchase_price_four,2)),\n",
    "                                                            '$'+str(round(avg_purchase_price_five,2)),\n",
    "                                                            '$'+str(round(avg_purchase_price_six,2)),\n",
    "                                                            '$'+str(round(avg_purchase_price_seven,2)),\n",
    "                                                            '$'+str(round(avg_purchase_price_eight,2)),\n",
    "                                                            '$'+str(round(avg_purchase_price_one,2)),],\n",
    "                                    \n",
    "                                   'Total Purchase Value':['$'+ str(total_purchase_value_two),\n",
    "                                                            '$'+ str(total_purchase_value_three),'$'+ str(total_purchase_value_four),\n",
    "                                                            '$'+ str(total_purchase_value_five),'$'+ str(total_purchase_value_six),\n",
    "                                                             '$'+ str(total_purchase_value_seven),'$'+ str(total_purchase_value_eight),\n",
    "                                                            '$'+ str(total_purchase_value_one)],\n",
    "                                   'Avg Total Purchase per Person':['$'+str(round(avg_total_purchase_per_person_two,2)),\n",
    "                                                             '$'+str(round(avg_total_purchase_per_person_three,2)),\n",
    "                                                            '$'+str(round(avg_total_purchase_per_person_four,2)),\n",
    "                                                            '$'+str(round(avg_total_purchase_per_person_five,2)),\n",
    "                                                            '$'+str(round(avg_total_purchase_per_person_six,2)),\n",
    "                                                            '$'+str(round(avg_total_purchase_per_person_seven,2)),\n",
    "                                                            '$'+str(round(avg_total_purchase_per_person_eight,2)),\n",
    "                                                            '$'+str(round(avg_total_purchase_per_person_one,2)),]}, index=group_names)\n",
    "purchasing_analysis"
   ]
  },
  {
   "cell_type": "markdown",
   "metadata": {},
   "source": [
    "## Top Spenders"
   ]
  },
  {
   "cell_type": "markdown",
   "metadata": {},
   "source": [
    "* Run basic calculations to obtain the results in the table below\n",
    "\n",
    "\n",
    "* Create a summary data frame to hold the results\n",
    "\n",
    "\n",
    "* Sort the total purchase value column in descending order\n",
    "\n",
    "\n",
    "* Optional: give the displayed data cleaner formatting\n",
    "\n",
    "\n",
    "* Display a preview of the summary data frame\n",
    "\n"
   ]
  },
  {
   "cell_type": "code",
   "execution_count": null,
   "metadata": {},
   "outputs": [],
   "source": [
    "df1['SN'].value_counts().head(5)\n",
    "\n",
    "df1.loc[df1['SN'] == 'Lisosia93']['Price'].sum()"
   ]
  },
  {
   "cell_type": "code",
   "execution_count": 8,
   "metadata": {},
   "outputs": [
    {
     "data": {
      "text/html": [
       "<div>\n",
       "<style scoped>\n",
       "    .dataframe tbody tr th:only-of-type {\n",
       "        vertical-align: middle;\n",
       "    }\n",
       "\n",
       "    .dataframe tbody tr th {\n",
       "        vertical-align: top;\n",
       "    }\n",
       "\n",
       "    .dataframe thead th {\n",
       "        text-align: right;\n",
       "    }\n",
       "</style>\n",
       "<table border=\"1\" class=\"dataframe\">\n",
       "  <thead>\n",
       "    <tr style=\"text-align: right;\">\n",
       "      <th></th>\n",
       "      <th>Purchase Count</th>\n",
       "      <th>Average Purchase Price</th>\n",
       "      <th>Total Purchase Value</th>\n",
       "    </tr>\n",
       "    <tr>\n",
       "      <th>SN</th>\n",
       "      <th></th>\n",
       "      <th></th>\n",
       "      <th></th>\n",
       "    </tr>\n",
       "  </thead>\n",
       "  <tbody>\n",
       "    <tr>\n",
       "      <th>Lisosia93</th>\n",
       "      <td>5</td>\n",
       "      <td>3.79</td>\n",
       "      <td>18.96</td>\n",
       "    </tr>\n",
       "    <tr>\n",
       "      <th>Iral74</th>\n",
       "      <td>4</td>\n",
       "      <td>3.86</td>\n",
       "      <td>15.45</td>\n",
       "    </tr>\n",
       "    <tr>\n",
       "      <th>Idastidru52</th>\n",
       "      <td>4</td>\n",
       "      <td>3.46</td>\n",
       "      <td>13.83</td>\n",
       "    </tr>\n",
       "    <tr>\n",
       "      <th>Asur53</th>\n",
       "      <td>3</td>\n",
       "      <td>4.54</td>\n",
       "      <td>13.62</td>\n",
       "    </tr>\n",
       "    <tr>\n",
       "      <th>Inguron55</th>\n",
       "      <td>3</td>\n",
       "      <td>4.37</td>\n",
       "      <td>13.10</td>\n",
       "    </tr>\n",
       "  </tbody>\n",
       "</table>\n",
       "</div>"
      ],
      "text/plain": [
       "             Purchase Count  Average Purchase Price  Total Purchase Value\n",
       "SN                                                                       \n",
       "Lisosia93                 5                    3.79                 18.96\n",
       "Iral74                    4                    3.86                 15.45\n",
       "Idastidru52               4                    3.46                 13.83\n",
       "Asur53                    3                    4.54                 13.62\n",
       "Inguron55                 3                    4.37                 13.10"
      ]
     },
     "execution_count": 8,
     "metadata": {},
     "output_type": "execute_result"
    }
   ],
   "source": [
    "df2 = pd.read_csv('purchase_data.csv')\n",
    "\n",
    "grouped = df2.groupby(['SN'])\n",
    "\n",
    "\n",
    "purchase_count = (grouped.count()).sort_values(by='Price', ascending=False)\n",
    "\n",
    "avg_purchase_price_sn = grouped['Price'].sum().sort_values(ascending=False).to_list()\n",
    "\n",
    "grouped_total_purchase = grouped['Price'].sum().sort_values(ascending=False).to_list()\n",
    "\n",
    "\n",
    "\n",
    "\n",
    "top_spenders = pd.DataFrame({'Purchase Count':purchase_count['Price'],\n",
    "                             'Average Purchase Price':round(avg_purchase_price_sn/purchase_count['Price'],2),\n",
    "                             'Total Purchase Value':grouped_total_purchase})\n",
    "top_spenders.head(5)\n"
   ]
  },
  {
   "cell_type": "markdown",
   "metadata": {},
   "source": [
    "## Most Popular Items"
   ]
  },
  {
   "cell_type": "code",
   "execution_count": null,
   "metadata": {},
   "outputs": [],
   "source": []
  },
  {
   "cell_type": "markdown",
   "metadata": {},
   "source": [
    "* Retrieve the Item ID, Item Name, and Item Price columns\n",
    "\n",
    "\n",
    "* Group by Item ID and Item Name. Perform calculations to obtain purchase count, item price, and total purchase value\n",
    "\n",
    "\n",
    "* Create a summary data frame to hold the results\n",
    "\n",
    "\n",
    "* Sort the purchase count column in descending order\n",
    "\n",
    "\n",
    "* Optional: give the displayed data cleaner formatting\n",
    "\n",
    "\n",
    "* Display a preview of the summary data frame\n",
    "\n"
   ]
  },
  {
   "cell_type": "code",
   "execution_count": null,
   "metadata": {},
   "outputs": [],
   "source": []
  },
  {
   "cell_type": "markdown",
   "metadata": {},
   "source": [
    "## Most Profitable Items"
   ]
  },
  {
   "cell_type": "markdown",
   "metadata": {},
   "source": [
    "* Sort the above table by total purchase value in descending order\n",
    "\n",
    "\n",
    "* Optional: give the displayed data cleaner formatting\n",
    "\n",
    "\n",
    "* Display a preview of the data frame\n",
    "\n"
   ]
  },
  {
   "cell_type": "code",
   "execution_count": null,
   "metadata": {
    "scrolled": true
   },
   "outputs": [],
   "source": []
  }
 ],
 "metadata": {
  "anaconda-cloud": {},
  "kernel_info": {
   "name": "python3"
  },
  "kernelspec": {
   "display_name": "Python 3",
   "language": "python",
   "name": "python3"
  },
  "language_info": {
   "codemirror_mode": {
    "name": "ipython",
    "version": 3
   },
   "file_extension": ".py",
   "mimetype": "text/x-python",
   "name": "python",
   "nbconvert_exporter": "python",
   "pygments_lexer": "ipython3",
   "version": "3.7.3"
  },
  "nteract": {
   "version": "0.2.0"
  }
 },
 "nbformat": 4,
 "nbformat_minor": 2
}
