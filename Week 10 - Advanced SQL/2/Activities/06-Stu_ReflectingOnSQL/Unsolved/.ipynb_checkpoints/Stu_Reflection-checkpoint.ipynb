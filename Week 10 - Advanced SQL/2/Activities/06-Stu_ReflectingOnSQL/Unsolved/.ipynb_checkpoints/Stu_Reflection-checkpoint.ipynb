{
 "cells": [
  {
   "cell_type": "code",
   "execution_count": 1,
   "metadata": {},
   "outputs": [],
   "source": [
    "# Python SQL toolkit and Object Relational Mapper\n",
    "import sqlalchemy\n",
    "from sqlalchemy.ext.automap import automap_base\n",
    "from sqlalchemy.orm import Session\n",
    "from sqlalchemy import create_engine"
   ]
  },
  {
   "cell_type": "code",
   "execution_count": 2,
   "metadata": {
    "deletable": false,
    "nbgrader": {
     "checksum": "030fdebd2b41a38aa27cabf7a6e16b9f",
     "grade": false,
     "grade_id": "cell-70673a582be08b2b",
     "locked": false,
     "schema_version": 1,
     "solution": true
    }
   },
   "outputs": [],
   "source": [
    "# Create engine using the `demographics.sqlite` database file\n",
    "engine = create_engine(\"sqlite:///../Resources/demographics.sqlite\")"
   ]
  },
  {
   "cell_type": "code",
   "execution_count": 3,
   "metadata": {
    "deletable": false,
    "nbgrader": {
     "checksum": "5158acd21546a6dfb59c5237e8eef7b3",
     "grade": false,
     "grade_id": "cell-41aa0b6e080b0fc3",
     "locked": false,
     "schema_version": 1,
     "solution": true
    }
   },
   "outputs": [],
   "source": [
    "# Declare a Base using `automap_base()`\n",
    "# YOUR CODE HERE\n",
    "Base = automap_base()"
   ]
  },
  {
   "cell_type": "code",
   "execution_count": 5,
   "metadata": {
    "deletable": false,
    "nbgrader": {
     "checksum": "4cf9ccdf62b4c7dde67986fc286db32f",
     "grade": false,
     "grade_id": "cell-6bfc53d06684937a",
     "locked": false,
     "schema_version": 1,
     "solution": true
    }
   },
   "outputs": [],
   "source": [
    "# Use the Base class to reflect the database tables\n",
    "Base.prepare(engine, reflect=True)"
   ]
  },
  {
   "cell_type": "code",
   "execution_count": 18,
   "metadata": {
    "deletable": false,
    "nbgrader": {
     "checksum": "120325f817ac4e85c340183eb65373d4",
     "grade": false,
     "grade_id": "cell-ed6e858f1d08dd99",
     "locked": false,
     "schema_version": 1,
     "solution": true
    }
   },
   "outputs": [
    {
     "data": {
      "text/plain": [
       "['demographics']"
      ]
     },
     "execution_count": 18,
     "metadata": {},
     "output_type": "execute_result"
    }
   ],
   "source": [
    "# Print all of the classes mapped to the Base\n",
    "Base.classes.keys()"
   ]
  },
  {
   "cell_type": "code",
   "execution_count": 19,
   "metadata": {
    "deletable": false,
    "nbgrader": {
     "checksum": "3c6359b28d1377dcd8eef0bb8d386a4d",
     "grade": false,
     "grade_id": "cell-8efa4b315fdfc079",
     "locked": false,
     "schema_version": 1,
     "solution": true
    }
   },
   "outputs": [],
   "source": [
    "# Assign the demographics class to a variable called `Demographics`\n",
    "Demographics = Base.classes.demographics"
   ]
  },
  {
   "cell_type": "code",
   "execution_count": 20,
   "metadata": {
    "deletable": false,
    "nbgrader": {
     "checksum": "476a5b0a2a5223dd59d86831d245e86c",
     "grade": false,
     "grade_id": "cell-490b4263c4872970",
     "locked": false,
     "schema_version": 1,
     "solution": true
    }
   },
   "outputs": [],
   "source": [
    "# Create a session\n",
    "session = Session(engine)"
   ]
  },
  {
   "cell_type": "code",
   "execution_count": 39,
   "metadata": {},
   "outputs": [],
   "source": [
    "location = session.query(Demographics.location).limit(15).all()\n",
    "location_unique = session.query(Demographics.location).limit(15).distinct().all()"
   ]
  },
  {
   "cell_type": "code",
   "execution_count": 40,
   "metadata": {
    "deletable": false,
    "nbgrader": {
     "checksum": "62e2eefec8bad4b8d01519d296130e0f",
     "grade": false,
     "grade_id": "cell-9ec67a4806a1b9d2",
     "locked": false,
     "schema_version": 1,
     "solution": true
    },
    "scrolled": true
   },
   "outputs": [
    {
     "name": "stdout",
     "output_type": "stream",
     "text": [
      "('South Dakota',)\n",
      "('Delaware',)\n",
      "('South Dakota',)\n",
      "('Louisiana',)\n",
      "('West Virginia',)\n",
      "('South Dakota',)\n",
      "('Louisiana',)\n",
      "('Louisiana',)\n",
      "('Louisiana',)\n",
      "('West Virginia',)\n",
      "('South Dakota',)\n",
      "('Delaware',)\n",
      "('Alaska',)\n",
      "('Delaware',)\n",
      "('South Dakota',)\n"
     ]
    }
   ],
   "source": [
    "# Use the session to query Demographics table and display the first 5 locations\n",
    "first_row = session.query(Demographics).first()\n",
    "\n",
    "for row in location:\n",
    "    print(row)"
   ]
  },
  {
   "cell_type": "code",
   "execution_count": 38,
   "metadata": {},
   "outputs": [
    {
     "data": {
      "text/plain": [
       "{'_sa_instance_state': <sqlalchemy.orm.state.InstanceState at 0x1107f2c50>,\n",
       " 'location': 'South Dakota',\n",
       " 'salary': 68,\n",
       " 'occupation': 'Choreographer',\n",
       " 'weight_kg': 53.0,\n",
       " 'age': 58,\n",
       " 'academic_degree': 'PhD',\n",
       " 'id': 0,\n",
       " 'children': 1,\n",
       " 'height_meter': 1.87}"
      ]
     },
     "execution_count": 38,
     "metadata": {},
     "output_type": "execute_result"
    }
   ],
   "source": [
    "first_row.__dict__"
   ]
  },
  {
   "cell_type": "code",
   "execution_count": 41,
   "metadata": {
    "deletable": false,
    "nbgrader": {
     "checksum": "a6cc46421b79f087e7d79d9376bb37df",
     "grade": false,
     "grade_id": "cell-48bb7af3e19c67ac",
     "locked": false,
     "schema_version": 1,
     "solution": true
    }
   },
   "outputs": [
    {
     "name": "stdout",
     "output_type": "stream",
     "text": [
      "('South Dakota',)\n",
      "('Delaware',)\n",
      "('Louisiana',)\n",
      "('West Virginia',)\n",
      "('Alaska',)\n"
     ]
    }
   ],
   "source": [
    "# BONUS: Query and print the number of unique Locations\n",
    "# Hints: Look into counting and grouping operations in SQLAlchemy\n",
    "for row in location_unique:\n",
    "    print(row)"
   ]
  },
  {
   "cell_type": "code",
   "execution_count": null,
   "metadata": {},
   "outputs": [],
   "source": []
  }
 ],
 "metadata": {
  "kernelspec": {
   "display_name": "Python 3",
   "language": "python",
   "name": "python3"
  },
  "language_info": {
   "codemirror_mode": {
    "name": "ipython",
    "version": 3
   },
   "file_extension": ".py",
   "mimetype": "text/x-python",
   "name": "python",
   "nbconvert_exporter": "python",
   "pygments_lexer": "ipython3",
   "version": "3.7.3"
  },
  "varInspector": {
   "cols": {
    "lenName": 16,
    "lenType": 16,
    "lenVar": 40
   },
   "kernels_config": {
    "python": {
     "delete_cmd_postfix": "",
     "delete_cmd_prefix": "del ",
     "library": "var_list.py",
     "varRefreshCmd": "print(var_dic_list())"
    },
    "r": {
     "delete_cmd_postfix": ") ",
     "delete_cmd_prefix": "rm(",
     "library": "var_list.r",
     "varRefreshCmd": "cat(var_dic_list()) "
    }
   },
   "types_to_exclude": [
    "module",
    "function",
    "builtin_function_or_method",
    "instance",
    "_Feature"
   ],
   "window_display": false
  }
 },
 "nbformat": 4,
 "nbformat_minor": 2
}
