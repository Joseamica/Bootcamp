{
 "cells": [
  {
   "cell_type": "code",
   "execution_count": 31,
   "metadata": {},
   "outputs": [],
   "source": [
    "# Dependencies\n",
    "import requests\n",
    "import json\n",
    "from pprint import pprint"
   ]
  },
  {
   "cell_type": "code",
   "execution_count": 32,
   "metadata": {},
   "outputs": [
    {
     "name": "stdout",
     "output_type": "stream",
     "text": [
      "What movie title you want to search for: troya\n"
     ]
    }
   ],
   "source": [
    "url = \"http://www.omdbapi.com/?t=\"\n",
    "movie_title = input('What movie title you want to search for: ')\n",
    "api_key = \"&apikey=trilogy\""
   ]
  },
  {
   "cell_type": "code",
   "execution_count": 33,
   "metadata": {},
   "outputs": [
    {
     "name": "stdout",
     "output_type": "stream",
     "text": [
      "{'Title': 'Troya', 'Year': '2001', 'Rated': 'N/A', 'Released': 'N/A', 'Runtime': '5 min', 'Genre': 'Documentary, Short', 'Director': 'Juan de Sande', 'Writer': 'N/A', 'Actors': 'Xavier Mascaró', 'Plot': 'N/A', 'Language': 'N/A', 'Country': 'Spain', 'Awards': 'N/A', 'Poster': 'N/A', 'Ratings': [{'Source': 'Internet Movie Database', 'Value': '7.1/10'}], 'Metascore': 'N/A', 'imdbRating': '7.1', 'imdbVotes': '49', 'imdbID': 'tt0337341', 'Type': 'movie', 'DVD': 'N/A', 'BoxOffice': 'N/A', 'Production': 'N/A', 'Website': 'N/A', 'Response': 'True'}\n"
     ]
    }
   ],
   "source": [
    "response = requests.get(url + movie_title + api_key).json()\n",
    "print(response)"
   ]
  },
  {
   "cell_type": "code",
   "execution_count": null,
   "metadata": {},
   "outputs": [],
   "source": []
  }
 ],
 "metadata": {
  "kernelspec": {
   "display_name": "Python 3",
   "language": "python",
   "name": "python3"
  },
  "language_info": {
   "codemirror_mode": {
    "name": "ipython",
    "version": 3
   },
   "file_extension": ".py",
   "mimetype": "text/x-python",
   "name": "python",
   "nbconvert_exporter": "python",
   "pygments_lexer": "ipython3",
   "version": "3.7.3"
  }
 },
 "nbformat": 4,
 "nbformat_minor": 2
}
