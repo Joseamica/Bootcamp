{
 "cells": [
  {
   "cell_type": "code",
   "execution_count": 1,
   "metadata": {},
   "outputs": [],
   "source": [
    "# Dependencies\n",
    "import json\n",
    "import requests "
   ]
  },
  {
   "cell_type": "code",
   "execution_count": 6,
   "metadata": {},
   "outputs": [],
   "source": [
    "# Specify the URL\n",
    "filepath = (\"https://nyt-mongo-scraper.herokuapp.com/api/headlines\")\n",
    "\n",
    "\n",
    "# Make request and store response\n",
    "response = requests.get(filepath).json()"
   ]
  },
  {
   "cell_type": "code",
   "execution_count": 10,
   "metadata": {},
   "outputs": [
    {
     "data": {
      "text/plain": [
       "[{'saved': True,\n",
       "  '_id': '5d1e28303c2a290015ecdd08',\n",
       "  'headline': 'How Sonoma’s Vineyards Survived a Siege of Fire, Smoke and Ash',\n",
       "  'summary': 'After terrifying wildfires threatened their homes and livelihoods, locals worked together to rebuild and to better protect their landscapes for the future.',\n",
       "  'url': 'https://www.nytimes.com/2019/07/03/travel/how-sonomas-vineyards-survived-a-siege-of-fire-smoke-and-ash.html',\n",
       "  'date': '2019-07-04T16:24:16.218Z',\n",
       "  '__v': 0},\n",
       " {'saved': False,\n",
       "  '_id': '5d1e28303c2a290015ecdd07',\n",
       "  'headline': 'Where Do You Find Gay Pride When It’s No Longer on Sale?',\n",
       "  'summary': 'With Pride Month gone and scrubbed away, Wesley Morris finds a video that truly “rides the rainbow.”',\n",
       "  'url': 'https://www.nytimes.com/2019/07/04/arts/pride-month-july-4.html',\n",
       "  'date': '2019-07-04T16:24:16.218Z',\n",
       "  '__v': 0},\n",
       " {'saved': False,\n",
       "  '_id': '5d1e28303c2a290015ecdd05',\n",
       "  'headline': 'The Complicated History of ‘God Bless America’',\n",
       "  'summary': 'Kate Smith’s rendition may now be tarnished by her own legacy, but Irving Berlin’s love letter to his adopted country still has the power to stir.',\n",
       "  'url': 'https://www.nytimes.com/2019/07/03/arts/music/kate-smith-god-bless-america.html',\n",
       "  'date': '2019-07-04T16:24:16.215Z',\n",
       "  '__v': 0},\n",
       " {'saved': True,\n",
       "  '_id': '5d1e21233c2a290015ecdd01',\n",
       "  'headline': '36 Hours in Rockaway Beach, Queens',\n",
       "  'summary': 'The once-grungy surf town is a cocktail of bohemia and gentrification, just a subway (or ferry) ride from Manhattan.',\n",
       "  'url': 'https://www.nytimes.com/2019/07/01/travel/what-to-do-36-hours-in-rockaway-beach-queens.html',\n",
       "  'date': '2019-07-04T15:54:11.115Z',\n",
       "  '__v': 0},\n",
       " {'saved': False,\n",
       "  '_id': '5d1e21233c2a290015ecdd00',\n",
       "  'headline': 'Review: It’s 1985, and ‘Stranger Things’ Hits the Mall',\n",
       "  'summary': 'Netflix adds John Hughes-style romance and a “Fast Times at Ridgemont High” tribute to its hit blend of sci-fi, horror and big-hair nostalgia.',\n",
       "  'url': 'https://www.nytimes.com/2019/07/03/arts/television/stranger-things-season-3-review.html',\n",
       "  'date': '2019-07-04T15:54:11.114Z',\n",
       "  '__v': 0},\n",
       " {'saved': False,\n",
       "  '_id': '5d1e21233c2a290015ecdcff',\n",
       "  'headline': 'Why Trump Likes Tanks',\n",
       "  'summary': 'These hulking relics are part of the insidious nostalgia that undergirds his “Make America Great Again” ideology.',\n",
       "  'url': 'https://www.nytimes.com/2019/07/04/opinion/trump-tanks.html',\n",
       "  'date': '2019-07-04T15:54:11.113Z',\n",
       "  '__v': 0},\n",
       " {'saved': False,\n",
       "  '_id': '5d1e21233c2a290015ecdcfe',\n",
       "  'headline': 'U.S. Southerners, Facing Big Odds, Believe in a Path Out of PovertyA Sprawling Democratic Primary, and No One to Shape It',\n",
       "  'summary': 'Twenty-four candidates is too many, some say. And with a leadership vacuum at the top, the party is having trouble sorting it out.',\n",
       "  'url': 'https://www.nytimes.com/2019/07/04/business/economy/social-mobility-south.html',\n",
       "  'date': '2019-07-04T15:54:11.113Z',\n",
       "  '__v': 0},\n",
       " {'saved': False,\n",
       "  '_id': '5d1e21233c2a290015ecdcfd',\n",
       "  'headline': 'Justice Dept. Reverses Course and Seeks to Add Citizenship QuestionTrump Says Migrants Are ‘Living Far Better’ in Border FacilitiesMost Democratic candidates support health coverage for undocumented immigrants. Here’s a look at the policy.',\n",
       "  'summary': 'Mr. Trump’s statements come after weeks of public backlash and a report about squalid conditions at overcrowded centers.',\n",
       "  'url': 'https://www.nytimes.com/2019/07/03/us/politics/census-citizenship-question.html',\n",
       "  'date': '2019-07-04T15:54:11.111Z',\n",
       "  '__v': 0}]"
      ]
     },
     "execution_count": 10,
     "metadata": {},
     "output_type": "execute_result"
    }
   ],
   "source": [
    "# JSON-ify response\n",
    "response"
   ]
  },
  {
   "cell_type": "code",
   "execution_count": null,
   "metadata": {
    "collapsed": true,
    "scrolled": true
   },
   "outputs": [],
   "source": [
    "# Print first and last articles"
   ]
  },
  {
   "cell_type": "code",
   "execution_count": null,
   "metadata": {
    "collapsed": true
   },
   "outputs": [],
   "source": [
    "#Print the number of responses received."
   ]
  }
 ],
 "metadata": {
  "kernelspec": {
   "display_name": "Python 3",
   "language": "python",
   "name": "python3"
  },
  "language_info": {
   "codemirror_mode": {
    "name": "ipython",
    "version": 3
   },
   "file_extension": ".py",
   "mimetype": "text/x-python",
   "name": "python",
   "nbconvert_exporter": "python",
   "pygments_lexer": "ipython3",
   "version": "3.7.3"
  },
  "varInspector": {
   "cols": {
    "lenName": 16,
    "lenType": 16,
    "lenVar": 40
   },
   "kernels_config": {
    "python": {
     "delete_cmd_postfix": "",
     "delete_cmd_prefix": "del ",
     "library": "var_list.py",
     "varRefreshCmd": "print(var_dic_list())"
    },
    "r": {
     "delete_cmd_postfix": ") ",
     "delete_cmd_prefix": "rm(",
     "library": "var_list.r",
     "varRefreshCmd": "cat(var_dic_list()) "
    }
   },
   "types_to_exclude": [
    "module",
    "function",
    "builtin_function_or_method",
    "instance",
    "_Feature"
   ],
   "window_display": false
  }
 },
 "nbformat": 4,
 "nbformat_minor": 2
}
