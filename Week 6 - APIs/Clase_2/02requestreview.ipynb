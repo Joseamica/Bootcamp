{
 "cells": [
  {
   "cell_type": "code",
   "execution_count": 96,
   "metadata": {},
   "outputs": [],
   "source": [
    "# Dependencies\n",
    "import json\n",
    "import requests \n"
   ]
  },
  {
   "cell_type": "code",
   "execution_count": 98,
   "metadata": {},
   "outputs": [
    {
     "data": {
      "text/plain": [
       "[{'saved': True,\n",
       "  '_id': '5d1e92e23c2a290015ecdd74',\n",
       "  'headline': 'My Kids Are Lucky to Be Growing Up in America',\n",
       "  'summary': 'I wonder whether my liberal neighbors know how fortunate we are.',\n",
       "  'url': 'https://www.nytimes.com/2019/07/03/opinion/american-kids.html',\n",
       "  'date': '2019-07-04T23:59:30.410Z',\n",
       "  '__v': 0},\n",
       " {'saved': False,\n",
       "  '_id': '5d1e92e23c2a290015ecdd76',\n",
       "  'headline': 'Can’t Get to the Beach? These Novels Take You There',\n",
       "  'summary': 'Pick up one of these to feel the sand beneath your toes and smell the salty, tangy ocean air.',\n",
       "  'url': 'https://www.nytimes.com/2019/07/04/books/best-beach-books.html',\n",
       "  'date': '2019-07-04T23:59:30.410Z',\n",
       "  '__v': 0},\n",
       " {'saved': False,\n",
       "  '_id': '5d1e92e23c2a290015ecdd75',\n",
       "  'headline': 'Drink a Pint, Waste Less Food',\n",
       "  'summary': 'A brewery in Manchester, England, has been using discarded breakfast cereal to make beer in a project intended to address the issue of waste.',\n",
       "  'url': 'https://www.nytimes.com/2019/07/03/business/media/beer-cereal-food-waste.html',\n",
       "  'date': '2019-07-04T23:59:30.410Z',\n",
       "  '__v': 0}]"
      ]
     },
     "execution_count": 98,
     "metadata": {},
     "output_type": "execute_result"
    }
   ],
   "source": [
    "# Specify the URL\n",
    "filepath = (\"https://nyt-mongo-scraper.herokuapp.com/api/headlines\")\n",
    "\n",
    "# Make request and store response\n",
    "response = requests.get(filepath).json()\n",
    "response\n"
   ]
  },
  {
   "cell_type": "code",
   "execution_count": 107,
   "metadata": {
    "scrolled": true
   },
   "outputs": [
    {
     "name": "stdout",
     "output_type": "stream",
     "text": [
      " First Article: {'saved': True, '_id': '5d1e92e23c2a290015ecdd74', 'headline': 'My Kids Are Lucky to Be Growing Up in America', 'summary': 'I wonder whether my liberal neighbors know how fortunate we are.', 'url': 'https://www.nytimes.com/2019/07/03/opinion/american-kids.html', 'date': '2019-07-04T23:59:30.410Z', '__v': 0},\t\n",
      " Second Article: {'saved': False, '_id': '5d1e92e23c2a290015ecdd75', 'headline': 'Drink a Pint, Waste Less Food', 'summary': 'A brewery in Manchester, England, has been using discarded breakfast cereal to make beer in a project intended to address the issue of waste.', 'url': 'https://www.nytimes.com/2019/07/03/business/media/beer-cereal-food-waste.html', 'date': '2019-07-04T23:59:30.410Z', '__v': 0}\n"
     ]
    }
   ],
   "source": [
    "# Print first and last articles\n",
    "print(f\" First Article: {response[0]},\\t\\n Second Article: {response[2]}\")"
   ]
  },
  {
   "cell_type": "code",
   "execution_count": 100,
   "metadata": {},
   "outputs": [
    {
     "name": "stdout",
     "output_type": "stream",
     "text": [
      "3\n"
     ]
    }
   ],
   "source": [
    "#Print the number of responses received.\n",
    "print(len(response))"
   ]
  },
  {
   "cell_type": "code",
   "execution_count": null,
   "metadata": {},
   "outputs": [],
   "source": []
  }
 ],
 "metadata": {
  "kernelspec": {
   "display_name": "Python 3",
   "language": "python",
   "name": "python3"
  },
  "language_info": {
   "codemirror_mode": {
    "name": "ipython",
    "version": 3
   },
   "file_extension": ".py",
   "mimetype": "text/x-python",
   "name": "python",
   "nbconvert_exporter": "python",
   "pygments_lexer": "ipython3",
   "version": "3.7.3"
  },
  "varInspector": {
   "cols": {
    "lenName": 16,
    "lenType": 16,
    "lenVar": 40
   },
   "kernels_config": {
    "python": {
     "delete_cmd_postfix": "",
     "delete_cmd_prefix": "del ",
     "library": "var_list.py",
     "varRefreshCmd": "print(var_dic_list())"
    },
    "r": {
     "delete_cmd_postfix": ") ",
     "delete_cmd_prefix": "rm(",
     "library": "var_list.r",
     "varRefreshCmd": "cat(var_dic_list()) "
    }
   },
   "types_to_exclude": [
    "module",
    "function",
    "builtin_function_or_method",
    "instance",
    "_Feature"
   ],
   "window_display": false
  }
 },
 "nbformat": 4,
 "nbformat_minor": 2
}
