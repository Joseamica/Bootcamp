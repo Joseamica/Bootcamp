{
 "cells": [
  {
   "cell_type": "code",
   "execution_count": 2,
   "metadata": {},
   "outputs": [],
   "source": [
    "#Dependencies\n",
    "import requests\n",
    "import json\n",
    "import pandas as pd\n",
    "import numpy as np\n",
    "import matplotlib.pyplot as plt"
   ]
  },
  {
   "cell_type": "code",
   "execution_count": 23,
   "metadata": {},
   "outputs": [
    {
     "data": {
      "text/plain": [
       "[{'score': 32.952446,\n",
       "  'show': {'id': 3570,\n",
       "   'url': 'http://www.tvmaze.com/shows/3570/dirk-gently',\n",
       "   'name': 'Dirk Gently',\n",
       "   'type': 'Scripted',\n",
       "   'language': 'English',\n",
       "   'genres': ['Drama', 'Comedy', 'Crime'],\n",
       "   'status': 'Ended',\n",
       "   'runtime': 55,\n",
       "   'premiered': '2012-03-05',\n",
       "   'officialSite': 'http://www.bbc.co.uk/programmes/b01d8jmz',\n",
       "   'schedule': {'time': '21:00', 'days': ['Monday']},\n",
       "   'rating': {'average': 7.3},\n",
       "   'weight': 55,\n",
       "   'network': {'id': 51,\n",
       "    'name': 'BBC Four',\n",
       "    'country': {'name': 'United Kingdom',\n",
       "     'code': 'GB',\n",
       "     'timezone': 'Europe/London'}},\n",
       "   'webChannel': None,\n",
       "   'externals': {'tvrage': 27204, 'thetvdb': 213081, 'imdb': 'tt2303367'},\n",
       "   'image': {'medium': 'http://static.tvmaze.com/uploads/images/medium_portrait/18/46777.jpg',\n",
       "    'original': 'http://static.tvmaze.com/uploads/images/original_untouched/18/46777.jpg'},\n",
       "   'summary': \"<p>Drama series featuring writer Douglas Adams's holistic detective Dirk Gently, who operates based on the fundamental interconnectedness of all things.</p>\",\n",
       "   'updated': 1560876073,\n",
       "   '_links': {'self': {'href': 'http://api.tvmaze.com/shows/3570'},\n",
       "    'previousepisode': {'href': 'http://api.tvmaze.com/episodes/233137'}}}},\n",
       " {'score': 5.3703833,\n",
       "  'show': {'id': 11405,\n",
       "   'url': 'http://www.tvmaze.com/shows/11405/dirk-gentlys-holistic-detective-agency',\n",
       "   'name': \"Dirk Gently's Holistic Detective Agency\",\n",
       "   'type': 'Scripted',\n",
       "   'language': 'English',\n",
       "   'genres': ['Comedy', 'Science-Fiction', 'Mystery'],\n",
       "   'status': 'Ended',\n",
       "   'runtime': 60,\n",
       "   'premiered': '2016-10-22',\n",
       "   'officialSite': 'http://www.bbcamerica.com/shows/dirk-gentlys-holistic-detective-agency',\n",
       "   'schedule': {'time': '21:00', 'days': ['Saturday']},\n",
       "   'rating': {'average': 8.6},\n",
       "   'weight': 93,\n",
       "   'network': {'id': 15,\n",
       "    'name': 'BBC America',\n",
       "    'country': {'name': 'United States',\n",
       "     'code': 'US',\n",
       "     'timezone': 'America/New_York'}},\n",
       "   'webChannel': None,\n",
       "   'externals': {'tvrage': None, 'thetvdb': 312505, 'imdb': 'tt4047038'},\n",
       "   'image': {'medium': 'http://static.tvmaze.com/uploads/images/medium_portrait/133/332939.jpg',\n",
       "    'original': 'http://static.tvmaze.com/uploads/images/original_untouched/133/332939.jpg'},\n",
       "   'summary': \"<p>Corpses—cops—trap—cult—assassins—Pararibulitis—vampires—lottery ticket—kitten—corgi—<i>Everything is connected!</i></p><p>Welcome to the world of <b>Dirk Gently's Holistic Detective Agency</b>; a trippy mystery that thrusts a reluctant sidekick into the bizarre world of an unconventional detective who believes in the interconnectedness of all things. When washed-up rocker Todd Brotzman stumbles upon the murder scene of a millionaire, all hell breaks loose. Eccentric detective, Dirk Gently, wholly believes they're destined to untangle the peculiar events surrounding the mystery together, whether Todd likes it or not! A collection of wild and dangerous characters' further infiltrate and complicate their world, each episode landing them a few random steps closer to uncovering the truth.</p><p>The series is an adaptation of the wildly popular novels by Douglas Adams.</p>\",\n",
       "   'updated': 1514470101,\n",
       "   '_links': {'self': {'href': 'http://api.tvmaze.com/shows/11405'},\n",
       "    'previousepisode': {'href': 'http://api.tvmaze.com/episodes/1359674'}}}}]"
      ]
     },
     "execution_count": 23,
     "metadata": {},
     "output_type": "execute_result"
    }
   ],
   "source": [
    "#list of tv show titles to query\n",
    "tv_shows = [\"Altered Carbon\", \"Grey's Anatomy\", \"This is Us\", \"The Flash\", \"Vikings\", \"Shameless\", \"Arrow\", \"Peaky Blinders\", \"Dirk Gently\"]\n",
    "url = 'http://api.tvmaze.com'\n",
    "path = '/search/shows?q='\n",
    "\n",
    "show_names = []\n",
    "shows_ratings = [] \n",
    "# make iterative requests to TVmaze search endpoint\n",
    "for i in tv_shows:\n",
    "    query_url = url + path + i \n",
    "    response = requests.get(query_url).json()\n",
    "    response\n",
    "\n"
   ]
  },
  {
   "cell_type": "code",
   "execution_count": 14,
   "metadata": {},
   "outputs": [
    {
     "name": "stdout",
     "output_type": "stream",
     "text": [
      "http://api.tvmaze.com/search/shows?q=Dirk Gently\n"
     ]
    }
   ],
   "source": [
    "# create dataframe\n",
    "query_url = url + path + i\n",
    "print(query_url)\n",
    "#print(requests.get(query_url).json())\n"
   ]
  },
  {
   "cell_type": "code",
   "execution_count": 4,
   "metadata": {},
   "outputs": [],
   "source": [
    "# use matplotlib to create a bar chart from the dataframe"
   ]
  }
 ],
 "metadata": {
  "kernelspec": {
   "display_name": "Python 3",
   "language": "python",
   "name": "python3"
  },
  "language_info": {
   "codemirror_mode": {
    "name": "ipython",
    "version": 3
   },
   "file_extension": ".py",
   "mimetype": "text/x-python",
   "name": "python",
   "nbconvert_exporter": "python",
   "pygments_lexer": "ipython3",
   "version": "3.7.3"
  }
 },
 "nbformat": 4,
 "nbformat_minor": 2
}
